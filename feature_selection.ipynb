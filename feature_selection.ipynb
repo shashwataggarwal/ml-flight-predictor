{
 "cells": [
  {
   "cell_type": "code",
   "execution_count": 2,
   "metadata": {},
   "outputs": [],
   "source": [
    "import pandas as pd\n",
    "from sklearn.ensemble import RandomForestClassifier,RandomForestRegressor \n",
    "from sklearn.feature_selection import SelectFromModel\n",
    "from sklearn.model_selection import train_test_split\n",
    "from preprocess import preprocess"
   ]
  },
  {
   "cell_type": "code",
   "execution_count": 3,
   "metadata": {},
   "outputs": [],
   "source": [
    "# Get data from preprocessor\n",
    "df = preprocess()"
   ]
  },
  {
   "cell_type": "code",
   "execution_count": 4,
   "metadata": {},
   "outputs": [],
   "source": [
    "# Split X, y into train test sets\n",
    "y = df['flight_cost']\n",
    "X = df.loc[:, df.columns != 'flight_cost']\n",
    "X_train, X_test, y_train, y_test = train_test_split(X, y, test_size=0.8, random_state=69)"
   ]
  },
  {
   "cell_type": "code",
   "execution_count": 4,
   "metadata": {},
   "outputs": [
    {
     "data": {
      "text/plain": [
       "Index(['flight_duration', 'number_of_stops', 'days_to_depart',\n",
       "       'Bengaluru-New Delhi', 'Mumbai-Bengaluru', 'New Delhi-Goa'],\n",
       "      dtype='object')"
      ]
     },
     "execution_count": 4,
     "metadata": {},
     "output_type": "execute_result"
    }
   ],
   "source": [
    "# Random Foreset Regressor to extract features\n",
    "model = RandomForestRegressor(max_depth=13, n_estimators=350)\n",
    "sel = SelectFromModel(model)\n",
    "sel.fit(X_train, y_train)\n",
    "X_train.columns[(sel.get_support())]"
   ]
  },
  {
   "cell_type": "code",
   "execution_count": 8,
   "metadata": {},
   "outputs": [
    {
     "data": {
      "text/plain": [
       "Index(['Vistara', 'flight_duration', 'number_of_stops', 'days_to_depart',\n",
       "       'Bengaluru-New Delhi', 'Mumbai-Bengaluru', 'Mumbai-New Delhi',\n",
       "       'New Delhi-Goa', 'New Delhi-Kolkata', 'New Delhi-Mumbai', 'bd__2'],\n",
       "      dtype='object')"
      ]
     },
     "execution_count": 8,
     "metadata": {},
     "output_type": "execute_result"
    }
   ],
   "source": [
    "# Trying out classifier version to extract features\n",
    "model = RandomForestClassifier(max_depth=13, n_estimators=350)\n",
    "sel = SelectFromModel(model)\n",
    "sel.fit(X_train, y_train)\n",
    "X_train.columns[(sel.get_support())]"
   ]
  },
  {
   "cell_type": "code",
   "execution_count": 18,
   "metadata": {},
   "outputs": [
    {
     "data": {
      "text/plain": [
       "Index(['AirAsia', 'Go Air', 'IndiGo', 'flight_duration', 'number_of_stops',\n",
       "       'Bengaluru-New Delhi', 'Mumbai-Bengaluru', 'Mumbai-Goa',\n",
       "       'Mumbai-New Delhi', 'New Delhi-Goa', 'New Delhi-Mumbai', 'dd__0',\n",
       "       'dd__1', 'morning-2', 'morning-3', 'morning-5'],\n",
       "      dtype='object')"
      ]
     },
     "execution_count": 18,
     "metadata": {},
     "output_type": "execute_result"
    }
   ],
   "source": [
    "# Select k best features using f_regressor where k = 16\n",
    "\n",
    "from sklearn.feature_selection import SelectKBest, f_regression\n",
    "k_best = SelectKBest(f_regression, k=16)\n",
    "k_best.fit(X, y)\n",
    "X_train.columns[(k_best.get_support())]"
   ]
  }
 ],
 "metadata": {
  "kernelspec": {
   "display_name": "Python 3",
   "language": "python",
   "name": "python3"
  },
  "language_info": {
   "codemirror_mode": {
    "name": "ipython",
    "version": 3
   },
   "file_extension": ".py",
   "mimetype": "text/x-python",
   "name": "python",
   "nbconvert_exporter": "python",
   "pygments_lexer": "ipython3",
   "version": "3.8.3"
  }
 },
 "nbformat": 4,
 "nbformat_minor": 4
}
