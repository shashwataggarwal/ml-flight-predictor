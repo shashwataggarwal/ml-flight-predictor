{
 "cells": [
  {
   "cell_type": "code",
   "execution_count": 1,
   "metadata": {},
   "outputs": [],
   "source": [
    "import matplotlib as mpl\n",
    "import matplotlib.pyplot as plt\n",
    "import preprocess\n",
    "import pandas as pd\n",
    "import numpy as np\n",
    "import seaborn as sns"
   ]
  },
  {
   "cell_type": "code",
   "execution_count": 88,
   "metadata": {},
   "outputs": [],
   "source": [
    "fig_size = plt.rcParams[\"figure.figsize\"]\n",
    "fig_size[0] = 16    # x-axis\n",
    "fig_size[1] = 12    # y-axis\n",
    "plt.rcParams[\"figure.figsize\"] = fig_size\n",
    "# sns.set_theme(style=\"darkgrid\")"
   ]
  },
  {
   "cell_type": "code",
   "execution_count": 2,
   "metadata": {},
   "outputs": [
    {
     "data": {
      "text/plain": [
       "(808828, 59)"
      ]
     },
     "execution_count": 2,
     "metadata": {},
     "output_type": "execute_result"
    }
   ],
   "source": [
    "# Preprocessing data and getting dataframe\n",
    "\n",
    "df = preprocess.preprocess()\n",
    "df.shape"
   ]
  },
  {
   "cell_type": "code",
   "execution_count": 3,
   "metadata": {},
   "outputs": [],
   "source": [
    "# Saving preprocessed data without headers\n",
    "\n",
    "df.to_csv('processed_data_train.csv',index=False)"
   ]
  },
  {
   "cell_type": "code",
   "execution_count": 4,
   "metadata": {},
   "outputs": [
    {
     "data": {
      "text/plain": [
       "(826561, 69)"
      ]
     },
     "execution_count": 4,
     "metadata": {},
     "output_type": "execute_result"
    }
   ],
   "source": [
    "temp_df = pd.read_csv('processed_data.csv', header=0)\n",
    "temp_df.shape"
   ]
  },
  {
   "cell_type": "code",
   "execution_count": null,
   "metadata": {},
   "outputs": [],
   "source": [
    "# Heatmap of departure day, airline with avg flight cost\n",
    "\n",
    "temp = df.pivot_table(index='departure_day', columns='airline', values='flight_cost', aggfunc='mean')\n",
    "sns.heatmap(temp. linewidths=.5)"
   ]
  },
  {
   "cell_type": "code",
   "execution_count": null,
   "metadata": {},
   "outputs": [],
   "source": [
    "# Heatmap of days to depart, airline with avg flight cost\n",
    "\n",
    "temp = df.pivot_table(index='days_to_depart', columns='airline', values='flight_cost', aggfunc='mean')\n",
    "sns.heatmap(temp. linewidths=.5)"
   ]
  },
  {
   "cell_type": "code",
   "execution_count": null,
   "metadata": {},
   "outputs": [],
   "source": [
    "# Heatmap of departure day, flight_path with avg. flight cost\n",
    "\n",
    "temp = df.pivot_table(index='departure_day', columns='flight_path', values='flight_cost', aggfunc='mean')\n",
    "sns.heatmap(temp, linewidths=.5)"
   ]
  },
  {
   "cell_type": "code",
   "execution_count": null,
   "metadata": {},
   "outputs": [],
   "source": [
    "\n",
    "temp = df.loc[:,['flight_path','airline','departure_time_day','booking_day','departure_day','departure_time','flight_cost','number_of_stops']]\n",
    "temp['flight_path']=temp['flight_path'].astype('category').cat.codes\n",
    "temp['airline']=temp['airline'].astype('category').cat.codes\n",
    "temp['departure_time_day']=temp['departure_time_day'].astype('category').cat.codes\n",
    "temp['departure_time']=temp['departure_time'].astype('category').cat.codes\n",
    "sns.pairplot(temp)"
   ]
  },
  {
   "cell_type": "code",
   "execution_count": null,
   "metadata": {},
   "outputs": [],
   "source": [
    "temp = df.loc[:,['flight_path','airline','departure_time_day','booking_day','departure_day','departure_time','flight_cost','number_of_stops']]\n",
    "temp['flight_path']=temp['flight_path'].astype('category').cat.codes\n",
    "temp['airline']=temp['airline'].astype('category').cat.codes\n",
    "temp['departure_time_day']=temp['departure_time_day'].astype('category').cat.codes\n",
    "temp['departure_time']=temp['departure_time'].astype('category').cat.codes\n",
    "sns.heatmap(temp.corr(), linewidths=.5)"
   ]
  },
  {
   "cell_type": "code",
   "execution_count": null,
   "metadata": {},
   "outputs": [],
   "source": [
    "# Correlation heatmap for flight cost\n",
    "\n",
    "temp = df.loc[:,['flight_path','airline','departure_time_day','booking_day','departure_day','departure_time','flight_cost','number_of_stops']]\n",
    "temp['flight_path']=temp['flight_path'].astype('category').cat.codes\n",
    "temp['airline']=temp['airline'].astype('category').cat.codes\n",
    "temp['departure_time_day']=temp['departure_time_day'].astype('category').cat.codes\n",
    "temp['departure_time']=temp['departure_time'].astype('category').cat.codes\n",
    "cor = temp.corr()\n",
    "# t = sns.dark_palette(\"#3eada7\", as_cmap=True)\n",
    "plt.figure(figsize=(14,3))\n",
    "sns.heatmap(cor.loc[['flight_cost']], linewidths=.5)"
   ]
  },
  {
   "cell_type": "code",
   "execution_count": 89,
   "metadata": {},
   "outputs": [
    {
     "data": {
      "text/plain": [
       "<seaborn.axisgrid.FacetGrid at 0x25df5eda6d8>"
      ]
     },
     "execution_count": 89,
     "metadata": {},
     "output_type": "execute_result"
    },
    {
     "data": {
      "image/png": "[encoded data removed]",
      "text/plain": [
       "<Figure size 440.1x360 with 1 Axes>"
      ]
     },
     "metadata": {},
     "output_type": "display_data"
    }
   ],
   "source": [
    "# Flight cost and frequency for each airline\n",
    "\n",
    "# sns.displot(data=df, x=\"flight_cost\", hue=\"airline\", kind=\"kde\", fill=True)\n",
    "sns.displot(data=df, x=\"flight_cost\", hue=\"airline\", multiple=\"stack\", bins=18)\n",
    "# sns.barplot(data=df, x=\"airline\", hue=\"flight_cost\", estimator = np.median)\n",
    "# sns.displot(penguins, x=\"bill_length_mm\", y=\"bill_depth_mm\", hue=\"species\")"
   ]
  },
  {
   "cell_type": "code",
   "execution_count": null,
   "metadata": {},
   "outputs": [],
   "source": [
    "# Print frequencies of each airline\n",
    "\n",
    "df['airline'].value_counts()"
   ]
  },
  {
   "cell_type": "code",
   "execution_count": null,
   "metadata": {
    "scrolled": true
   },
   "outputs": [],
   "source": [
    "# Avg, min and max flight cost for each airline vs days_to_depart\n",
    "\n",
    "cmap = plt.get_cmap('jet_r')\n",
    "\n",
    "# airlines = df['airline'].unique()[:6]\n",
    "\n",
    "\n",
    "for i in range(len(airlines)):\n",
    "    sliced_data = df.loc[df['airline'] == airlines[i]]\n",
    "    res = sliced_data.groupby('days_to_depart').agg({'flight_cost': ['mean', 'min', 'max']}).reset_index(drop=True)\n",
    "    res.columns = res.columns.droplevel(0)\n",
    "\n",
    "    color = cmap(float(i)/len(airlines))\n",
    "    x_axis = np.arange(len(sliced_data['days_to_depart'].unique()))+1\n",
    "    plt.plot(x_axis, res['mean'],label='{} Avg'.format(airlines[i]),c=color)\n",
    "    plt.plot(x_axis, res['min'], ':',label='{} Min'.format(airlines[i]), linewidth=2, c=color)\n",
    "    plt.plot(x_axis, res['max'], ':',label='{} Max'.format(airlines[i]), linewidth=2, c=color)\n",
    "\n",
    "plt.legend()\n",
    "plt.show()"
   ]
  },
  {
   "cell_type": "code",
   "execution_count": null,
   "metadata": {},
   "outputs": [],
   "source": [
    "# Plot Days to depart vs flight cost for each airline\n",
    "\n",
    "sns.relplot(x=\"days_to_depart\", y=\"flight_cost\", kind=\"line\", data=df, hue='airline', ci=None)"
   ]
  },
  {
   "cell_type": "code",
   "execution_count": null,
   "metadata": {},
   "outputs": [],
   "source": [
    "# Get proprocessed data and split X and y\n",
    "\n",
    "df = preprocess.preprocess()\n",
    "X = df.loc[:, df.columns != 'flight_cost']\n",
    "Y = df.loc[:,['flight_cost']]"
   ]
  },
  {
   "cell_type": "code",
   "execution_count": null,
   "metadata": {
    "scrolled": true
   },
   "outputs": [],
   "source": [
    "from sklearn.preprocessing import MinMaxScaler\n",
    "from sklearn.linear_model import LinearRegression, ElasticNet\n",
    "from sklearn.model_selection import train_test_split\n",
    "from sklearn.decomposition import PCA\n",
    "from sklearn.ensemble import RandomForestClassifier"
   ]
  },
  {
   "cell_type": "code",
   "execution_count": null,
   "metadata": {},
   "outputs": [],
   "source": [
    " X_train, X_test, y_train, y_test = train_test_split(X, Y, test_size=0.33, random_state=69)"
   ]
  },
  {
   "cell_type": "code",
   "execution_count": null,
   "metadata": {
    "scrolled": true
   },
   "outputs": [],
   "source": [
    "# Training linear regression model\n",
    "\n",
    "regr = LinearRegression()\n",
    "regr.fit(X_train, y_train)\n",
    "\n",
    "regr.score(X_train, y_train)"
   ]
  },
  {
   "cell_type": "code",
   "execution_count": null,
   "metadata": {},
   "outputs": [],
   "source": [
    "# R2 score of regression model\n",
    "\n",
    "reg.score(X_test, y_test)"
   ]
  },
  {
   "cell_type": "code",
   "execution_count": null,
   "metadata": {},
   "outputs": [],
   "source": [
    "# create a scaler object\n",
    "scaler = MinMaxScaler()\n",
    "# fit and transform the data\n",
    "df_X = pd.DataFrame(scaler.fit_transform(X), columns=X.columns)\n",
    "# df_Y = df_norm.loc[:,['flight_cost']]"
   ]
  },
  {
   "cell_type": "code",
   "execution_count": null,
   "metadata": {},
   "outputs": [],
   "source": [
    " X_train, X_test, y_train, y_test = train_test_split(df_X,Y, test_size=0.33, random_state=69)"
   ]
  },
  {
   "cell_type": "code",
   "execution_count": null,
   "metadata": {},
   "outputs": [],
   "source": [
    "# Training linear regression model\n",
    "\n",
    "reg = LinearRegression().fit(X_train, y_train)\n",
    "reg.score(X_train, y_train)"
   ]
  },
  {
   "cell_type": "code",
   "execution_count": null,
   "metadata": {},
   "outputs": [],
   "source": [
    "# Print R2 score for linear regression\n",
    "\n",
    "reg.score(X_test, y_test)"
   ]
  },
  {
   "cell_type": "code",
   "execution_count": null,
   "metadata": {},
   "outputs": [],
   "source": [
    "# Reducing features with the help of PCA and training linear regression model\n",
    "\n",
    "pca = PCA(n_components=3)\n",
    "pca_x = pca.fit_transform(df_X)\n",
    "X_train, X_test, y_train, y_test = train_test_split(pca_x, Y, test_size=0.33, random_state=69)\n",
    "reg = LinearRegression().fit(X_train, y_train)\n",
    "reg.score(X_train, y_train)"
   ]
  },
  {
   "cell_type": "code",
   "execution_count": null,
   "metadata": {},
   "outputs": [],
   "source": [
    "reg.score(X_test, y_test)"
   ]
  },
  {
   "cell_type": "code",
   "execution_count": 2,
   "metadata": {},
   "outputs": [
    {
     "name": "stderr",
     "output_type": "stream",
     "text": [
      "C:\\Users\\sidha\\Anaconda3\\lib\\site-packages\\sklearn\\ensemble\\weight_boosting.py:29: DeprecationWarning: numpy.core.umath_tests is an internal NumPy module and should not be imported. It will be removed in a future NumPy release.\n",
      "  from numpy.core.umath_tests import inner1d\n"
     ]
    }
   ],
   "source": [
    "import preprocess\n",
    "from sklearn.model_selection import train_test_split\n",
    "from sklearn.metrics import mean_squared_error, r2_score, mean_absolute_error\n",
    "from sklearn.model_selection import GridSearchCV\n",
    "from sklearn.ensemble import RandomForestRegressor\n",
    "from sklearn.neighbors import KNeighborsRegressor\n",
    "import pickle"
   ]
  },
  {
   "cell_type": "code",
   "execution_count": 90,
   "metadata": {},
   "outputs": [
    {
     "data": {
      "text/plain": [
       "(194000, 59)"
      ]
     },
     "execution_count": 90,
     "metadata": {},
     "output_type": "execute_result"
    }
   ],
   "source": [
    "df = preprocess.preprocess()\n",
    "df.shape"
   ]
  },
  {
   "cell_type": "code",
   "execution_count": 91,
   "metadata": {},
   "outputs": [
    {
     "data": {
      "text/plain": [
       "5028.721716494845"
      ]
     },
     "execution_count": 91,
     "metadata": {},
     "output_type": "execute_result"
    }
   ],
   "source": [
    "# Avg flight cost\n",
    "\n",
    "df['flight_cost'].mean()"
   ]
  },
  {
   "cell_type": "code",
   "execution_count": 6,
   "metadata": {},
   "outputs": [],
   "source": [
    "# X = df.loc[:, ['AirAsia', 'Go Air', 'IndiGo', 'flight_duration', 'number_of_stops', 'Bengaluru-New Delhi', 'Mumbai-Bengaluru', 'Mumbai-Goa', 'Mumbai-New Delhi', 'New Delhi-Goa', 'New Delhi-Mumbai', 'dd__0', 'morning-2', 'morning-3', 'morning-5', 'days_to_depart']]\n",
    "# Y = df.loc[:,['flight_cost']]\n",
    "\n",
    "X = df.loc[:, df.columns != 'flight_cost']\n",
    "Y = df.loc[:,['flight_cost']]"
   ]
  },
  {
   "cell_type": "code",
   "execution_count": 7,
   "metadata": {},
   "outputs": [],
   "source": [
    "X_train, X_test, y_train, y_test = train_test_split(X, Y, test_size=0.3, random_state=42)"
   ]
  },
  {
   "cell_type": "code",
   "execution_count": 4,
   "metadata": {},
   "outputs": [],
   "source": [
    "# Initialise Random Forest and KNN\n",
    "\n",
    "randf = RandomForestRegressor()\n",
    "neigh = KNeighborsRegressor()"
   ]
  },
  {
   "cell_type": "code",
   "execution_count": 5,
   "metadata": {},
   "outputs": [],
   "source": [
    "# Intialise Params\n",
    "\n",
    "paramRandomForest = {'n_estimators':list(range(100,550,50)), 'max_depth':list(range(10,21,1))}\n",
    "paramKNN = {'n_neighbors':list(range(10,21,1))}"
   ]
  },
  {
   "cell_type": "code",
   "execution_count": 8,
   "metadata": {},
   "outputs": [
    {
     "name": "stderr",
     "output_type": "stream",
     "text": [
      "C:\\Users\\sidha\\Anaconda3\\lib\\site-packages\\sklearn\\model_selection\\_search.py:739: DataConversionWarning: A column-vector y was passed when a 1d array was expected. Please change the shape of y to (n_samples,), for example using ravel().\n",
      "  self.best_estimator_.fit(X, y, **fit_params)\n"
     ]
    },
    {
     "name": "stdout",
     "output_type": "stream",
     "text": [
      "Rand Forest Grid Res\n",
      "{'max_depth': 13, 'n_estimators': 350}\n",
      "0.5138238108878023\n"
     ]
    }
   ],
   "source": [
    "# Grid search for random forest regressor\n",
    "\n",
    "rand_grid = GridSearchCV(estimator=randf, param_grid=paramRandomForest, n_jobs=7)\n",
    "rand_grid.fit(X_train, y_train)\n",
    "print('Rand Forest Grid Res')\n",
    "print(rand_grid.best_params_)\n",
    "print(rand_grid.best_score_)\n",
    "pickle.dump(rand_grid, open('./dump/randForestGrid.dump', 'wb'))\n",
    "with open(\"./dump/randForestGrid.txt\", \"w\") as text_file:\n",
    "    print(rand_grid.cv_results_, file=text_file)"
   ]
  },
  {
   "cell_type": "code",
   "execution_count": 9,
   "metadata": {},
   "outputs": [
    {
     "name": "stdout",
     "output_type": "stream",
     "text": [
      "KNN Grid Res\n",
      "{'n_neighbors': 11}\n",
      "0.38873988485218486\n"
     ]
    }
   ],
   "source": [
    "# Grid search for KNN\n",
    "\n",
    "neigh_grid = GridSearchCV(estimator=neigh, param_grid=paramKNN, n_jobs=7)\n",
    "neigh_grid.fit(X_train, y_train)\n",
    "print('KNN Grid Res')\n",
    "print(neigh_grid.best_params_)\n",
    "print(neigh_grid.best_score_)\n",
    "pickle.dump(neigh_grid, open('./dump/neighbourGrid.dump', 'wb'))\n",
    "with open(\"./dump/neighbourGrid.txt\", \"w\") as text_file:\n",
    "    print(neigh_grid.cv_results_, file=text_file)"
   ]
  },
  {
   "cell_type": "code",
   "execution_count": 44,
   "metadata": {},
   "outputs": [],
   "source": [
    "# Rebuild best models for random forest regressor and KNN\n",
    "\n",
    "randf = RandomForestRegressor(max_depth = 13, n_estimators = 350)\n",
    "neigh = KNeighborsRegressor(n_neighbors = 11)"
   ]
  },
  {
   "cell_type": "code",
   "execution_count": 45,
   "metadata": {},
   "outputs": [
    {
     "name": "stderr",
     "output_type": "stream",
     "text": [
      "C:\\Users\\sidha\\Anaconda3\\lib\\site-packages\\ipykernel_launcher.py:1: DataConversionWarning: A column-vector y was passed when a 1d array was expected. Please change the shape of y to (n_samples,), for example using ravel().\n",
      "  \"\"\"Entry point for launching an IPython kernel.\n"
     ]
    },
    {
     "name": "stdout",
     "output_type": "stream",
     "text": [
      "Score:  0.5146151169376316\n",
      "MAE:  659.7331307644346\n"
     ]
    }
   ],
   "source": [
    "randf.fit(X_train, y_train)\n",
    "y_pred = randf.predict(X_test)\n",
    "print('Score: ', randf.score(X_test, y_test))\n",
    "print('MAE: ', mean_absolute_error(y_test, y_pred))"
   ]
  },
  {
   "cell_type": "code",
   "execution_count": 36,
   "metadata": {},
   "outputs": [
    {
     "name": "stdout",
     "output_type": "stream",
     "text": [
      "Score:  0.42048770500821486\n",
      "MAE:  739.2163011558888\n"
     ]
    }
   ],
   "source": [
    "# 15 w/o days to depart\n",
    "\n",
    "neigh.fit(X_train, y_train)\n",
    "y_pred = neigh.predict(X_test)\n",
    "print('Score: ', neigh.score(X_test, y_test))\n",
    "print('MAE: ', mean_absolute_error(y_test, y_pred))"
   ]
  },
  {
   "cell_type": "code",
   "execution_count": 52,
   "metadata": {},
   "outputs": [
    {
     "name": "stdout",
     "output_type": "stream",
     "text": [
      "Score:  0.4211306634802877\n",
      "MAE:  734.4625054670416\n"
     ]
    }
   ],
   "source": [
    "# 15 w days to depart\n",
    "\n",
    "neigh.fit(X_train, y_train)\n",
    "y_pred = neigh.predict(X_test)\n",
    "print('Score: ', neigh.score(X_test, y_test))\n",
    "print('MAE: ', mean_absolute_error(y_test, y_pred))"
   ]
  },
  {
   "cell_type": "code",
   "execution_count": 48,
   "metadata": {},
   "outputs": [
    {
     "name": "stdout",
     "output_type": "stream",
     "text": [
      "Score:  0.42427707911096535\n",
      "MAE:  735.4826882224305\n"
     ]
    }
   ],
   "source": [
    "# 20 features\n",
    "\n",
    "neigh.fit(X_train, y_train)\n",
    "y_pred = neigh.predict(X_test)\n",
    "print('Score: ', neigh.score(X_test, y_test))\n",
    "print('MAE: ', mean_absolute_error(y_test, y_pred))"
   ]
  },
  {
   "cell_type": "code",
   "execution_count": 41,
   "metadata": {
    "collapsed": true
   },
   "outputs": [
    {
     "name": "stdout",
     "output_type": "stream",
     "text": [
      "   Air India  AirAsia  Go Air  IndiGo  Spicejet  Vistara  flight_duration  \\\n",
      "0        0.0      0.0     1.0     0.0       0.0      0.0            680.0   \n",
      "1        0.0      0.0     1.0     0.0       0.0      0.0            680.0   \n",
      "2        0.0      0.0     1.0     0.0       0.0      0.0            680.0   \n",
      "\n",
      "   flight_cost  number_of_stops  Bengaluru-New Delhi  ...  morning-4  \\\n",
      "0       6512.0              1.0                  0.0  ...        1.0   \n",
      "1       3874.0              1.0                  0.0  ...        1.0   \n",
      "2       3481.0              1.0                  0.0  ...        1.0   \n",
      "\n",
      "   morning-5  morning-6  night-0  night-1  night-2  night-3  night-4  night-5  \\\n",
      "0        0.0        0.0      0.0      0.0      0.0      0.0      0.0      0.0   \n",
      "1        0.0        0.0      0.0      0.0      0.0      0.0      0.0      0.0   \n",
      "2        0.0        0.0      0.0      0.0      0.0      0.0      0.0      0.0   \n",
      "\n",
      "   night-6  \n",
      "0      0.0  \n",
      "1      0.0  \n",
      "2      0.0  \n",
      "\n",
      "[3 rows x 58 columns]\n"
     ]
    }
   ],
   "source": [
    "df_temp = X_test.loc[:,X_test.columns != 'days_to_depart']\n",
    "df_temp = df_temp.drop_duplicates()\n",
    "# print(list(df_temp.columns))\n",
    "\n",
    "\n",
    "df_droped_dd = df.loc[:, df.columns != 'days_to_depart'].astype(float).drop_duplicates()\n",
    "s = df_temp.iloc[0]\n",
    "temp = pd.DataFrame(data = [s.values], columns = s.index)\n",
    "a = list(df_droped_dd.columns).remove('flight_cost')\n",
    "res = pd.merge(df_droped_dd, temp, on=a).dropna()\n",
    "print(res)"
   ]
  },
  {
   "cell_type": "code",
   "execution_count": 79,
   "metadata": {},
   "outputs": [
    {
     "name": "stdout",
     "output_type": "stream",
     "text": [
      "Mean Savings:  1045.5415888913237\n",
      "Total Savings:  60850520.47347505\n"
     ]
    }
   ],
   "source": [
    "# Calculate mean and total savings\n",
    "\n",
    "res_arr = []\n",
    "for i in range(X_test.shape[0]):\n",
    "    sampl = X_test.iloc[i]\n",
    "    temp = pd.DataFrame(data = [sampl.values]*int(sampl['days_to_depart']-1), columns = sampl.index)\n",
    "    temp.loc[:,'days_to_depart'] = np.array(list(range(int(sampl['days_to_depart']-1),0,-1))).astype(float)\n",
    "\n",
    "    pred = randf.predict(temp).min()\n",
    "    res_arr.append(abs(y_test.iloc[0].values - pred))\n",
    "    \n",
    "res_arr = np.array(res_arr)\n",
    "print(\"Mean Savings: \", res_arr.mean())\n",
    "print(\"Total Savings: \", res_arr.sum())"
   ]
  }
 ],
 "metadata": {
  "kernelspec": {
   "display_name": "Python 3",
   "language": "python",
   "name": "python3"
  },
  "language_info": {
   "codemirror_mode": {
    "name": "ipython",
    "version": 3
   },
   "file_extension": ".py",
   "mimetype": "text/x-python",
   "name": "python",
   "nbconvert_exporter": "python",
   "pygments_lexer": "ipython3",
   "version": "3.8.3"
  }
 },
 "nbformat": 4,
 "nbformat_minor": 2
}
