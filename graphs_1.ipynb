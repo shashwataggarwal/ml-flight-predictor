{
 "cells": [
  {
   "cell_type": "code",
   "execution_count": 8,
   "metadata": {},
   "outputs": [],
   "source": [
    "from preprocess import preprocess\n",
    "import seaborn as sns\n",
    "import matplotlib.pyplot as plt\n",
    "\n",
    "# df with preprocessed values and graph = true which gives plottable values\n",
    "df = preprocess(True)"
   ]
  },
  {
   "cell_type": "code",
   "execution_count": 22,
   "metadata": {},
   "outputs": [],
   "source": [
    "df_model = preprocess()"
   ]
  },
  {
   "cell_type": "code",
   "execution_count": 2,
   "metadata": {},
   "outputs": [
    {
     "data": {
      "text/plain": [
       "<seaborn.axisgrid.FacetGrid at 0x221a53cbd90>"
      ]
     },
     "execution_count": 2,
     "metadata": {},
     "output_type": "execute_result"
    },
    {
     "data": {
      "image/png": "[encoded data removed]",
      "text/plain": [
       "<Figure size 360x360 with 1 Axes>"
      ]
     },
     "metadata": {
      "needs_background": "light"
     },
     "output_type": "display_data"
    }
   ],
   "source": [
    "# Plot flight cost vs days to depart\n",
    "sns.relplot(data=df, x='days_to_depart', y='flight_cost', kind=\"line\")"
   ]
  },
  {
   "cell_type": "code",
   "execution_count": 4,
   "metadata": {},
   "outputs": [
    {
     "data": {
      "text/html": [
       "<div>\n",
       "<style scoped>\n",
       "    .dataframe tbody tr th:only-of-type {\n",
       "        vertical-align: middle;\n",
       "    }\n",
       "\n",
       "    .dataframe tbody tr th {\n",
       "        vertical-align: top;\n",
       "    }\n",
       "\n",
       "    .dataframe thead th {\n",
       "        text-align: right;\n",
       "    }\n",
       "</style>\n",
       "<table border=\"1\" class=\"dataframe\">\n",
       "  <thead>\n",
       "    <tr style=\"text-align: right;\">\n",
       "      <th></th>\n",
       "      <th>Air India</th>\n",
       "      <th>AirAsia</th>\n",
       "      <th>Go Air</th>\n",
       "      <th>IndiGo</th>\n",
       "      <th>Spicejet</th>\n",
       "      <th>Vistara</th>\n",
       "      <th>flight_duration</th>\n",
       "      <th>flight_cost</th>\n",
       "      <th>number_of_stops</th>\n",
       "      <th>days_to_depart</th>\n",
       "      <th>...</th>\n",
       "      <th>morning-4</th>\n",
       "      <th>morning-5</th>\n",
       "      <th>morning-6</th>\n",
       "      <th>night-0</th>\n",
       "      <th>night-1</th>\n",
       "      <th>night-2</th>\n",
       "      <th>night-3</th>\n",
       "      <th>night-4</th>\n",
       "      <th>night-5</th>\n",
       "      <th>night-6</th>\n",
       "    </tr>\n",
       "  </thead>\n",
       "  <tbody>\n",
       "    <tr>\n",
       "      <th>0</th>\n",
       "      <td>1</td>\n",
       "      <td>0</td>\n",
       "      <td>0</td>\n",
       "      <td>0</td>\n",
       "      <td>0</td>\n",
       "      <td>0</td>\n",
       "      <td>135.0</td>\n",
       "      <td>4006</td>\n",
       "      <td>0</td>\n",
       "      <td>6</td>\n",
       "      <td>...</td>\n",
       "      <td>0</td>\n",
       "      <td>0</td>\n",
       "      <td>0</td>\n",
       "      <td>0</td>\n",
       "      <td>0</td>\n",
       "      <td>0</td>\n",
       "      <td>0</td>\n",
       "      <td>0</td>\n",
       "      <td>0</td>\n",
       "      <td>0</td>\n",
       "    </tr>\n",
       "    <tr>\n",
       "      <th>1</th>\n",
       "      <td>1</td>\n",
       "      <td>0</td>\n",
       "      <td>0</td>\n",
       "      <td>0</td>\n",
       "      <td>0</td>\n",
       "      <td>0</td>\n",
       "      <td>135.0</td>\n",
       "      <td>4006</td>\n",
       "      <td>0</td>\n",
       "      <td>6</td>\n",
       "      <td>...</td>\n",
       "      <td>0</td>\n",
       "      <td>1</td>\n",
       "      <td>0</td>\n",
       "      <td>0</td>\n",
       "      <td>0</td>\n",
       "      <td>0</td>\n",
       "      <td>0</td>\n",
       "      <td>0</td>\n",
       "      <td>0</td>\n",
       "      <td>0</td>\n",
       "    </tr>\n",
       "    <tr>\n",
       "      <th>2</th>\n",
       "      <td>0</td>\n",
       "      <td>0</td>\n",
       "      <td>1</td>\n",
       "      <td>0</td>\n",
       "      <td>0</td>\n",
       "      <td>0</td>\n",
       "      <td>125.0</td>\n",
       "      <td>5056</td>\n",
       "      <td>0</td>\n",
       "      <td>6</td>\n",
       "      <td>...</td>\n",
       "      <td>0</td>\n",
       "      <td>1</td>\n",
       "      <td>0</td>\n",
       "      <td>0</td>\n",
       "      <td>0</td>\n",
       "      <td>0</td>\n",
       "      <td>0</td>\n",
       "      <td>0</td>\n",
       "      <td>0</td>\n",
       "      <td>0</td>\n",
       "    </tr>\n",
       "    <tr>\n",
       "      <th>3</th>\n",
       "      <td>0</td>\n",
       "      <td>0</td>\n",
       "      <td>1</td>\n",
       "      <td>0</td>\n",
       "      <td>0</td>\n",
       "      <td>0</td>\n",
       "      <td>125.0</td>\n",
       "      <td>4636</td>\n",
       "      <td>0</td>\n",
       "      <td>6</td>\n",
       "      <td>...</td>\n",
       "      <td>0</td>\n",
       "      <td>0</td>\n",
       "      <td>0</td>\n",
       "      <td>0</td>\n",
       "      <td>0</td>\n",
       "      <td>0</td>\n",
       "      <td>0</td>\n",
       "      <td>0</td>\n",
       "      <td>0</td>\n",
       "      <td>0</td>\n",
       "    </tr>\n",
       "    <tr>\n",
       "      <th>4</th>\n",
       "      <td>0</td>\n",
       "      <td>0</td>\n",
       "      <td>1</td>\n",
       "      <td>0</td>\n",
       "      <td>0</td>\n",
       "      <td>0</td>\n",
       "      <td>125.0</td>\n",
       "      <td>4636</td>\n",
       "      <td>0</td>\n",
       "      <td>6</td>\n",
       "      <td>...</td>\n",
       "      <td>0</td>\n",
       "      <td>0</td>\n",
       "      <td>0</td>\n",
       "      <td>0</td>\n",
       "      <td>0</td>\n",
       "      <td>0</td>\n",
       "      <td>0</td>\n",
       "      <td>0</td>\n",
       "      <td>0</td>\n",
       "      <td>0</td>\n",
       "    </tr>\n",
       "    <tr>\n",
       "      <th>...</th>\n",
       "      <td>...</td>\n",
       "      <td>...</td>\n",
       "      <td>...</td>\n",
       "      <td>...</td>\n",
       "      <td>...</td>\n",
       "      <td>...</td>\n",
       "      <td>...</td>\n",
       "      <td>...</td>\n",
       "      <td>...</td>\n",
       "      <td>...</td>\n",
       "      <td>...</td>\n",
       "      <td>...</td>\n",
       "      <td>...</td>\n",
       "      <td>...</td>\n",
       "      <td>...</td>\n",
       "      <td>...</td>\n",
       "      <td>...</td>\n",
       "      <td>...</td>\n",
       "      <td>...</td>\n",
       "      <td>...</td>\n",
       "      <td>...</td>\n",
       "    </tr>\n",
       "    <tr>\n",
       "      <th>29403</th>\n",
       "      <td>0</td>\n",
       "      <td>0</td>\n",
       "      <td>0</td>\n",
       "      <td>1</td>\n",
       "      <td>0</td>\n",
       "      <td>0</td>\n",
       "      <td>780.0</td>\n",
       "      <td>7626</td>\n",
       "      <td>2</td>\n",
       "      <td>35</td>\n",
       "      <td>...</td>\n",
       "      <td>0</td>\n",
       "      <td>0</td>\n",
       "      <td>0</td>\n",
       "      <td>0</td>\n",
       "      <td>0</td>\n",
       "      <td>0</td>\n",
       "      <td>0</td>\n",
       "      <td>0</td>\n",
       "      <td>0</td>\n",
       "      <td>0</td>\n",
       "    </tr>\n",
       "    <tr>\n",
       "      <th>29407</th>\n",
       "      <td>0</td>\n",
       "      <td>0</td>\n",
       "      <td>0</td>\n",
       "      <td>1</td>\n",
       "      <td>0</td>\n",
       "      <td>0</td>\n",
       "      <td>850.0</td>\n",
       "      <td>7626</td>\n",
       "      <td>2</td>\n",
       "      <td>35</td>\n",
       "      <td>...</td>\n",
       "      <td>0</td>\n",
       "      <td>0</td>\n",
       "      <td>0</td>\n",
       "      <td>0</td>\n",
       "      <td>0</td>\n",
       "      <td>0</td>\n",
       "      <td>0</td>\n",
       "      <td>0</td>\n",
       "      <td>0</td>\n",
       "      <td>0</td>\n",
       "    </tr>\n",
       "    <tr>\n",
       "      <th>29408</th>\n",
       "      <td>0</td>\n",
       "      <td>0</td>\n",
       "      <td>0</td>\n",
       "      <td>1</td>\n",
       "      <td>0</td>\n",
       "      <td>0</td>\n",
       "      <td>985.0</td>\n",
       "      <td>7626</td>\n",
       "      <td>2</td>\n",
       "      <td>35</td>\n",
       "      <td>...</td>\n",
       "      <td>0</td>\n",
       "      <td>0</td>\n",
       "      <td>0</td>\n",
       "      <td>0</td>\n",
       "      <td>0</td>\n",
       "      <td>0</td>\n",
       "      <td>0</td>\n",
       "      <td>0</td>\n",
       "      <td>0</td>\n",
       "      <td>0</td>\n",
       "    </tr>\n",
       "    <tr>\n",
       "      <th>29410</th>\n",
       "      <td>0</td>\n",
       "      <td>0</td>\n",
       "      <td>0</td>\n",
       "      <td>1</td>\n",
       "      <td>0</td>\n",
       "      <td>0</td>\n",
       "      <td>725.0</td>\n",
       "      <td>7626</td>\n",
       "      <td>2</td>\n",
       "      <td>35</td>\n",
       "      <td>...</td>\n",
       "      <td>0</td>\n",
       "      <td>0</td>\n",
       "      <td>0</td>\n",
       "      <td>0</td>\n",
       "      <td>0</td>\n",
       "      <td>0</td>\n",
       "      <td>0</td>\n",
       "      <td>0</td>\n",
       "      <td>0</td>\n",
       "      <td>0</td>\n",
       "    </tr>\n",
       "    <tr>\n",
       "      <th>29413</th>\n",
       "      <td>0</td>\n",
       "      <td>0</td>\n",
       "      <td>0</td>\n",
       "      <td>1</td>\n",
       "      <td>0</td>\n",
       "      <td>0</td>\n",
       "      <td>655.0</td>\n",
       "      <td>7626</td>\n",
       "      <td>2</td>\n",
       "      <td>35</td>\n",
       "      <td>...</td>\n",
       "      <td>0</td>\n",
       "      <td>0</td>\n",
       "      <td>0</td>\n",
       "      <td>0</td>\n",
       "      <td>0</td>\n",
       "      <td>0</td>\n",
       "      <td>0</td>\n",
       "      <td>0</td>\n",
       "      <td>0</td>\n",
       "      <td>0</td>\n",
       "    </tr>\n",
       "  </tbody>\n",
       "</table>\n",
       "<p>197051 rows × 59 columns</p>\n",
       "</div>"
      ],
      "text/plain": [
       "       Air India  AirAsia  Go Air  IndiGo  Spicejet  Vistara  flight_duration  \\\n",
       "0              1        0       0       0         0        0            135.0   \n",
       "1              1        0       0       0         0        0            135.0   \n",
       "2              0        0       1       0         0        0            125.0   \n",
       "3              0        0       1       0         0        0            125.0   \n",
       "4              0        0       1       0         0        0            125.0   \n",
       "...          ...      ...     ...     ...       ...      ...              ...   \n",
       "29403          0        0       0       1         0        0            780.0   \n",
       "29407          0        0       0       1         0        0            850.0   \n",
       "29408          0        0       0       1         0        0            985.0   \n",
       "29410          0        0       0       1         0        0            725.0   \n",
       "29413          0        0       0       1         0        0            655.0   \n",
       "\n",
       "       flight_cost  number_of_stops  days_to_depart  ...  morning-4  \\\n",
       "0             4006                0               6  ...          0   \n",
       "1             4006                0               6  ...          0   \n",
       "2             5056                0               6  ...          0   \n",
       "3             4636                0               6  ...          0   \n",
       "4             4636                0               6  ...          0   \n",
       "...            ...              ...             ...  ...        ...   \n",
       "29403         7626                2              35  ...          0   \n",
       "29407         7626                2              35  ...          0   \n",
       "29408         7626                2              35  ...          0   \n",
       "29410         7626                2              35  ...          0   \n",
       "29413         7626                2              35  ...          0   \n",
       "\n",
       "       morning-5  morning-6  night-0  night-1  night-2  night-3  night-4  \\\n",
       "0              0          0        0        0        0        0        0   \n",
       "1              1          0        0        0        0        0        0   \n",
       "2              1          0        0        0        0        0        0   \n",
       "3              0          0        0        0        0        0        0   \n",
       "4              0          0        0        0        0        0        0   \n",
       "...          ...        ...      ...      ...      ...      ...      ...   \n",
       "29403          0          0        0        0        0        0        0   \n",
       "29407          0          0        0        0        0        0        0   \n",
       "29408          0          0        0        0        0        0        0   \n",
       "29410          0          0        0        0        0        0        0   \n",
       "29413          0          0        0        0        0        0        0   \n",
       "\n",
       "       night-5  night-6  \n",
       "0            0        0  \n",
       "1            0        0  \n",
       "2            0        0  \n",
       "3            0        0  \n",
       "4            0        0  \n",
       "...        ...      ...  \n",
       "29403        0        0  \n",
       "29407        0        0  \n",
       "29408        0        0  \n",
       "29410        0        0  \n",
       "29413        0        0  \n",
       "\n",
       "[197051 rows x 59 columns]"
      ]
     },
     "execution_count": 4,
     "metadata": {},
     "output_type": "execute_result"
    }
   ],
   "source": [
    "df"
   ]
  },
  {
   "cell_type": "code",
   "execution_count": 7,
   "metadata": {},
   "outputs": [
    {
     "data": {
      "text/plain": [
       "<matplotlib.axes._subplots.AxesSubplot at 0x193cc75f9a0>"
      ]
     },
     "execution_count": 7,
     "metadata": {},
     "output_type": "execute_result"
    },
    {
     "data": {
      "image/png": "[encoded data removed]",
      "text/plain": [
       "<Figure size 432x288 with 1 Axes>"
      ]
     },
     "metadata": {
      "needs_background": "light"
     },
     "output_type": "display_data"
    }
   ],
   "source": [
    "# Plot trends for flight cost vs departure_day and departure time\n",
    "sns.barplot(data=df, x='departure_day', y='flight_cost', hue='departure_time')"
   ]
  },
  {
   "cell_type": "code",
   "execution_count": 8,
   "metadata": {},
   "outputs": [
    {
     "data": {
      "image/png": "[encoded data removed]",
      "text/plain": [
       "<Figure size 432x288 with 2 Axes>"
      ]
     },
     "metadata": {
      "needs_background": "light"
     },
     "output_type": "display_data"
    }
   ],
   "source": [
    "# Visualising flight cost vs departure day and departure time\n",
    "\n",
    "temp = df.pivot_table(index='departure_day', columns='departure_time', values='flight_cost', aggfunc='mean')\n",
    "t = sns.dark_palette(\"#3eada7\", reverse=True, as_cmap=True)\n",
    "sns.heatmap(temp, linewidths=.5, cmap=t)\n",
    "plt.savefig('dep_day_time_heat.png')"
   ]
  },
  {
   "cell_type": "code",
   "execution_count": 9,
   "metadata": {},
   "outputs": [
    {
     "data": {
      "text/plain": [
       "<matplotlib.axes._subplots.AxesSubplot at 0x193ce3c7ac0>"
      ]
     },
     "execution_count": 9,
     "metadata": {},
     "output_type": "execute_result"
    },
    {
     "data": {
      "image/png": "[encoded data removed]",
      "text/plain": [
       "<Figure size 432x288 with 1 Axes>"
      ]
     },
     "metadata": {
      "needs_background": "light"
     },
     "output_type": "display_data"
    }
   ],
   "source": [
    "# Plotting flight cost vs departure time\n",
    "\n",
    "sns.barplot(data=df, x='departure_time', y='flight_cost')"
   ]
  },
  {
   "cell_type": "code",
   "execution_count": 36,
   "metadata": {},
   "outputs": [
    {
     "data": {
      "image/png": "[encoded data removed]",
      "text/plain": [
       "<Figure size 360x360 with 1 Axes>"
      ]
     },
     "metadata": {
      "needs_background": "light"
     },
     "output_type": "display_data"
    }
   ],
   "source": [
    "# Density plot for flight cost values\n",
    "\n",
    "sns.displot(data=df, x='flight_cost', kind='kde', color=\"#3eada7\")\n",
    "plt.savefig('flight_cost.png')"
   ]
  },
  {
   "cell_type": "code",
   "execution_count": 12,
   "metadata": {},
   "outputs": [
    {
     "data": {
      "text/plain": [
       "<seaborn.axisgrid.FacetGrid at 0x221a6ac75b0>"
      ]
     },
     "execution_count": 12,
     "metadata": {},
     "output_type": "execute_result"
    },
    {
     "data": {
      "image/png": "[encoded data removed]",
      "text/plain": [
       "<Figure size 437.625x360 with 1 Axes>"
      ]
     },
     "metadata": {
      "needs_background": "light"
     },
     "output_type": "display_data"
    }
   ],
   "source": [
    "# Mean flight cost vs days to departure for each airline\n",
    "\n",
    "# temp = df.pivot_table(index='days_to_depart', columns='airline', values='flight_cost', aggfunc='mean')\n",
    "sns.relplot(data=df, x='days_to_depart', y='flight_cost', kind=\"line\", hue='airline', estimator = 'mean')"
   ]
  },
  {
   "cell_type": "code",
   "execution_count": 13,
   "metadata": {},
   "outputs": [
    {
     "data": {
      "text/plain": [
       "<seaborn.axisgrid.FacetGrid at 0x221a74e2850>"
      ]
     },
     "execution_count": 13,
     "metadata": {},
     "output_type": "execute_result"
    },
    {
     "data": {
      "image/png": "[encoded data removed]",
      "text/plain": [
       "<Figure size 437.625x360 with 1 Axes>"
      ]
     },
     "metadata": {
      "needs_background": "light"
     },
     "output_type": "display_data"
    }
   ],
   "source": [
    "# Flight cost and frequency for each airline\n",
    "\n",
    "sns.displot(data=df, x=\"flight_cost\", hue=\"airline\", multiple=\"stack\", bins=18)"
   ]
  },
  {
   "cell_type": "code",
   "execution_count": 11,
   "metadata": {},
   "outputs": [
    {
     "data": {
      "image/png": "[encoded data removed]",
      "text/plain": [
       "<Figure size 432x288 with 2 Axes>"
      ]
     },
     "metadata": {
      "needs_background": "light"
     },
     "output_type": "display_data"
    }
   ],
   "source": [
    "# Plotting airline frequencies and costs\n",
    "\n",
    "import pandas as pd\n",
    "import numpy as np\n",
    "from matplotlib.colors import Normalize\n",
    "df.sort_values('flight_cost', inplace=True)\n",
    "g = df.groupby('airline')\n",
    "costs = g['flight_cost'].mean()\n",
    "n = g.size()\n",
    "plot = plt.scatter(n.index, n, c=costs, cmap='Greens')\n",
    "plt.clf()\n",
    "plt.colorbar(plot)\n",
    "ax = sns.barplot(x=n.index, y=n, hue=costs, palette='Greens', dodge=False)\n",
    "ax.set_ylabel('freq')\n",
    "ax.legend_.remove()\n",
    "plt.savefig('hist.png')\n",
    "# sns.histplot(data=df, x = 'airline', hue=)\n",
    "# df['cost'] = pd.cut(df['flight_cost'], np.arange(min(df['flight_cost']), max(df['flight_cost']), step=1000))\n",
    "# sns.histplot(data=df, x= 'airline', hue='flight_cost', hue_norm=Normalize())"
   ]
  },
  {
   "cell_type": "code",
   "execution_count": 12,
   "metadata": {},
   "outputs": [
    {
     "data": {
      "text/plain": [
       "<matplotlib.axes._subplots.AxesSubplot at 0x193cb61cca0>"
      ]
     },
     "execution_count": 12,
     "metadata": {},
     "output_type": "execute_result"
    },
    {
     "data": {
      "image/png": "[encoded data removed]",
      "text/plain": [
       "<Figure size 432x288 with 1 Axes>"
      ]
     },
     "metadata": {
      "needs_background": "light"
     },
     "output_type": "display_data"
    }
   ],
   "source": [
    "# Plotting Departure day frequencies\n",
    "\n",
    "sns.histplot(data=df, x = 'departure_day', stat='frequency', color=\"#3eada7\")"
   ]
  },
  {
   "cell_type": "code",
   "execution_count": 13,
   "metadata": {},
   "outputs": [
    {
     "data": {
      "image/png": "[encoded data removed]",
      "text/plain": [
       "<Figure size 432x288 with 1 Axes>"
      ]
     },
     "metadata": {
      "needs_background": "light"
     },
     "output_type": "display_data"
    }
   ],
   "source": [
    "# Plotting flight duration densities\n",
    "\n",
    "sns.kdeplot(df['flight_duration'], color = \"#3eada7\")\n",
    "plt.savefig('duration_kde.png')"
   ]
  },
  {
   "cell_type": "code",
   "execution_count": 14,
   "metadata": {},
   "outputs": [
    {
     "data": {
      "text/plain": [
       "<matplotlib.axes._subplots.AxesSubplot at 0x193cb8e05e0>"
      ]
     },
     "execution_count": 14,
     "metadata": {},
     "output_type": "execute_result"
    },
    {
     "data": {
      "image/png": "[encoded data removed]",
      "text/plain": [
       "<Figure size 432x288 with 1 Axes>"
      ]
     },
     "metadata": {
      "needs_background": "light"
     },
     "output_type": "display_data"
    }
   ],
   "source": [
    "# Plotting mean flight cost for each departure day (Sunday to Saturday)\n",
    "t = df[['airline', 'flight_path', 'days_to_depart', 'flight_cost', 'number_of_stops', 'departure_day']]\n",
    "t = t.groupby('departure_day')\n",
    "x = t.describe()\n",
    "x = x['flight_cost']\n",
    "x['dep_day'] = [0,1,2,3,4,5,6]\n",
    "\n",
    "sns.barplot(data=x, x='dep_day', y='mean', color = '#3eada7')\n",
    "\n",
    "# sns.displot(t, x=\"flight_path\", shrink=0.8, color='#3eada7')\n",
    "# plt.xticks(rotation=90)\n",
    "# plt.savefig('route_count.png')\n",
    "# # t.corr()\n",
    "# sns.heatmap(.corr())"
   ]
  },
  {
   "cell_type": "code",
   "execution_count": 19,
   "metadata": {},
   "outputs": [
    {
     "data": {
      "application/vnd.jupyter.widget-view+json": {
       "model_id": "8b1002c155b142f8af0b0d846f5a0905",
       "version_major": 2,
       "version_minor": 0
      },
      "text/plain": [
       "HBox(children=(FloatProgress(value=0.0, description='Summarize dataset', max=22.0, style=ProgressStyle(descrip…"
      ]
     },
     "metadata": {},
     "output_type": "display_data"
    },
    {
     "name": "stdout",
     "output_type": "stream",
     "text": [
      "\n"
     ]
    },
    {
     "data": {
      "application/vnd.jupyter.widget-view+json": {
       "model_id": "2ae946b04aba4664b52a92e983baea9e",
       "version_major": 2,
       "version_minor": 0
      },
      "text/plain": [
       "HBox(children=(FloatProgress(value=0.0, description='Generate report structure', max=1.0, style=ProgressStyle(…"
      ]
     },
     "metadata": {},
     "output_type": "display_data"
    },
    {
     "name": "stdout",
     "output_type": "stream",
     "text": [
      "\n"
     ]
    },
    {
     "data": {
      "application/vnd.jupyter.widget-view+json": {
       "model_id": "c859424c79a345e68a07cb9c7822df67",
       "version_major": 2,
       "version_minor": 0
      },
      "text/plain": [
       "HBox(children=(FloatProgress(value=0.0, description='Render HTML', max=1.0, style=ProgressStyle(description_wi…"
      ]
     },
     "metadata": {},
     "output_type": "display_data"
    },
    {
     "name": "stdout",
     "output_type": "stream",
     "text": [
      "\n"
     ]
    },
    {
     "data": {
      "application/vnd.jupyter.widget-view+json": {
       "model_id": "433908a553e14150862fed9b3adb0ea7",
       "version_major": 2,
       "version_minor": 0
      },
      "text/plain": [
       "HBox(children=(FloatProgress(value=0.0, description='Export report to file', max=1.0, style=ProgressStyle(desc…"
      ]
     },
     "metadata": {},
     "output_type": "display_data"
    },
    {
     "name": "stdout",
     "output_type": "stream",
     "text": [
      "\n"
     ]
    }
   ],
   "source": [
    "from pandas_profiling import ProfileReport\n",
    "t = df[['airline', 'flight_path', 'departure_day', 'number_of_stops', 'flight_duration', 'days_to_depart', 'flight_cost', ]]\n",
    "t = t[t['flight_cost']<11000]\n",
    "prof = ProfileReport(t)\n",
    "prof.to_file(output_file='report_1.html')"
   ]
  },
  {
   "cell_type": "code",
   "execution_count": 16,
   "metadata": {},
   "outputs": [
    {
     "data": {
      "application/vnd.jupyter.widget-view+json": {
       "model_id": "521c09563b8c468a994061445b40f83f",
       "version_major": 2,
       "version_minor": 0
      },
      "text/plain": [
       "HBox(children=(FloatProgress(value=0.0, description='Summarize dataset', max=23.0, style=ProgressStyle(descrip…"
      ]
     },
     "metadata": {},
     "output_type": "display_data"
    },
    {
     "name": "stdout",
     "output_type": "stream",
     "text": [
      "\n"
     ]
    },
    {
     "data": {
      "application/vnd.jupyter.widget-view+json": {
       "model_id": "d854d6cd586a498aa377fbbc93e130d0",
       "version_major": 2,
       "version_minor": 0
      },
      "text/plain": [
       "HBox(children=(FloatProgress(value=0.0, description='Generate report structure', max=1.0, style=ProgressStyle(…"
      ]
     },
     "metadata": {},
     "output_type": "display_data"
    },
    {
     "name": "stdout",
     "output_type": "stream",
     "text": [
      "\n"
     ]
    },
    {
     "data": {
      "application/vnd.jupyter.widget-view+json": {
       "model_id": "73dd333d749d4915b90d78323b91d1f4",
       "version_major": 2,
       "version_minor": 0
      },
      "text/plain": [
       "HBox(children=(FloatProgress(value=0.0, description='Render HTML', max=1.0, style=ProgressStyle(description_wi…"
      ]
     },
     "metadata": {},
     "output_type": "display_data"
    },
    {
     "name": "stdout",
     "output_type": "stream",
     "text": [
      "\n"
     ]
    },
    {
     "data": {
      "application/vnd.jupyter.widget-view+json": {
       "model_id": "4b974c26c3bf4002a9f95051e9c9d4e5",
       "version_major": 2,
       "version_minor": 0
      },
      "text/plain": [
       "HBox(children=(FloatProgress(value=0.0, description='Export report to file', max=1.0, style=ProgressStyle(desc…"
      ]
     },
     "metadata": {},
     "output_type": "display_data"
    },
    {
     "name": "stdout",
     "output_type": "stream",
     "text": [
      "\n"
     ]
    }
   ],
   "source": [
    "temp = df.loc[:,['flight_path','airline','departure_time_day','booking_day','departure_day','departure_time','flight_cost','number_of_stops']]\n",
    "temp['flight_path']=temp['flight_path'].astype('category').cat.codes\n",
    "temp['airline']=temp['airline'].astype('category').cat.codes\n",
    "temp['departure_time_day']=temp['departure_time_day'].astype('category').cat.codes\n",
    "temp['departure_time']=temp['departure_time'].astype('category').cat.codes\n",
    "prof = ProfileReport(temp)\n",
    "prof.to_file(output_file='output3.html')"
   ]
  },
  {
   "cell_type": "code",
   "execution_count": 4,
   "metadata": {
    "collapsed": true
   },
   "outputs": [
    {
     "data": {
      "text/html": [
       "<div>\n",
       "<style scoped>\n",
       "    .dataframe tbody tr th:only-of-type {\n",
       "        vertical-align: middle;\n",
       "    }\n",
       "\n",
       "    .dataframe tbody tr th {\n",
       "        vertical-align: top;\n",
       "    }\n",
       "\n",
       "    .dataframe thead th {\n",
       "        text-align: right;\n",
       "    }\n",
       "</style>\n",
       "<table border=\"1\" class=\"dataframe\">\n",
       "  <thead>\n",
       "    <tr style=\"text-align: right;\">\n",
       "      <th></th>\n",
       "      <th>Air India</th>\n",
       "      <th>AirAsia</th>\n",
       "      <th>Go Air</th>\n",
       "      <th>IndiGo</th>\n",
       "      <th>Spicejet</th>\n",
       "      <th>Vistara</th>\n",
       "      <th>airline</th>\n",
       "      <th>flight_code</th>\n",
       "      <th>departure_time</th>\n",
       "      <th>flight_duration</th>\n",
       "      <th>...</th>\n",
       "      <th>morning-4</th>\n",
       "      <th>morning-5</th>\n",
       "      <th>morning-6</th>\n",
       "      <th>night-0</th>\n",
       "      <th>night-1</th>\n",
       "      <th>night-2</th>\n",
       "      <th>night-3</th>\n",
       "      <th>night-4</th>\n",
       "      <th>night-5</th>\n",
       "      <th>night-6</th>\n",
       "    </tr>\n",
       "  </thead>\n",
       "  <tbody>\n",
       "    <tr>\n",
       "      <th>981</th>\n",
       "      <td>0</td>\n",
       "      <td>0</td>\n",
       "      <td>1</td>\n",
       "      <td>0</td>\n",
       "      <td>0</td>\n",
       "      <td>0</td>\n",
       "      <td>Go Air</td>\n",
       "      <td>G8-101 | G8-185</td>\n",
       "      <td>morning</td>\n",
       "      <td>210.0</td>\n",
       "      <td>...</td>\n",
       "      <td>0</td>\n",
       "      <td>0</td>\n",
       "      <td>0</td>\n",
       "      <td>0</td>\n",
       "      <td>0</td>\n",
       "      <td>0</td>\n",
       "      <td>0</td>\n",
       "      <td>0</td>\n",
       "      <td>0</td>\n",
       "      <td>0</td>\n",
       "    </tr>\n",
       "    <tr>\n",
       "      <th>1180</th>\n",
       "      <td>0</td>\n",
       "      <td>0</td>\n",
       "      <td>1</td>\n",
       "      <td>0</td>\n",
       "      <td>0</td>\n",
       "      <td>0</td>\n",
       "      <td>Go Air</td>\n",
       "      <td>G8-113 | G8-832</td>\n",
       "      <td>morning</td>\n",
       "      <td>860.0</td>\n",
       "      <td>...</td>\n",
       "      <td>0</td>\n",
       "      <td>0</td>\n",
       "      <td>0</td>\n",
       "      <td>0</td>\n",
       "      <td>0</td>\n",
       "      <td>0</td>\n",
       "      <td>0</td>\n",
       "      <td>0</td>\n",
       "      <td>0</td>\n",
       "      <td>0</td>\n",
       "    </tr>\n",
       "    <tr>\n",
       "      <th>1179</th>\n",
       "      <td>0</td>\n",
       "      <td>0</td>\n",
       "      <td>1</td>\n",
       "      <td>0</td>\n",
       "      <td>0</td>\n",
       "      <td>0</td>\n",
       "      <td>Go Air</td>\n",
       "      <td>G8-101 | G8-185</td>\n",
       "      <td>morning</td>\n",
       "      <td>210.0</td>\n",
       "      <td>...</td>\n",
       "      <td>0</td>\n",
       "      <td>0</td>\n",
       "      <td>0</td>\n",
       "      <td>0</td>\n",
       "      <td>0</td>\n",
       "      <td>0</td>\n",
       "      <td>0</td>\n",
       "      <td>0</td>\n",
       "      <td>0</td>\n",
       "      <td>0</td>\n",
       "    </tr>\n",
       "    <tr>\n",
       "      <th>3760</th>\n",
       "      <td>0</td>\n",
       "      <td>0</td>\n",
       "      <td>1</td>\n",
       "      <td>0</td>\n",
       "      <td>0</td>\n",
       "      <td>0</td>\n",
       "      <td>Go Air</td>\n",
       "      <td>G8-141</td>\n",
       "      <td>morning</td>\n",
       "      <td>80.0</td>\n",
       "      <td>...</td>\n",
       "      <td>0</td>\n",
       "      <td>1</td>\n",
       "      <td>0</td>\n",
       "      <td>0</td>\n",
       "      <td>0</td>\n",
       "      <td>0</td>\n",
       "      <td>0</td>\n",
       "      <td>0</td>\n",
       "      <td>0</td>\n",
       "      <td>0</td>\n",
       "    </tr>\n",
       "    <tr>\n",
       "      <th>4548</th>\n",
       "      <td>0</td>\n",
       "      <td>0</td>\n",
       "      <td>1</td>\n",
       "      <td>0</td>\n",
       "      <td>0</td>\n",
       "      <td>0</td>\n",
       "      <td>Go Air</td>\n",
       "      <td>G8-371</td>\n",
       "      <td>afternoon</td>\n",
       "      <td>80.0</td>\n",
       "      <td>...</td>\n",
       "      <td>0</td>\n",
       "      <td>0</td>\n",
       "      <td>0</td>\n",
       "      <td>0</td>\n",
       "      <td>0</td>\n",
       "      <td>0</td>\n",
       "      <td>0</td>\n",
       "      <td>0</td>\n",
       "      <td>0</td>\n",
       "      <td>0</td>\n",
       "    </tr>\n",
       "    <tr>\n",
       "      <th>...</th>\n",
       "      <td>...</td>\n",
       "      <td>...</td>\n",
       "      <td>...</td>\n",
       "      <td>...</td>\n",
       "      <td>...</td>\n",
       "      <td>...</td>\n",
       "      <td>...</td>\n",
       "      <td>...</td>\n",
       "      <td>...</td>\n",
       "      <td>...</td>\n",
       "      <td>...</td>\n",
       "      <td>...</td>\n",
       "      <td>...</td>\n",
       "      <td>...</td>\n",
       "      <td>...</td>\n",
       "      <td>...</td>\n",
       "      <td>...</td>\n",
       "      <td>...</td>\n",
       "      <td>...</td>\n",
       "      <td>...</td>\n",
       "      <td>...</td>\n",
       "    </tr>\n",
       "    <tr>\n",
       "      <th>2869</th>\n",
       "      <td>0</td>\n",
       "      <td>0</td>\n",
       "      <td>0</td>\n",
       "      <td>0</td>\n",
       "      <td>0</td>\n",
       "      <td>1</td>\n",
       "      <td>Vistara</td>\n",
       "      <td>UK-705 | UK-772 | UK-940 | UK-855</td>\n",
       "      <td>morning</td>\n",
       "      <td>240.0</td>\n",
       "      <td>...</td>\n",
       "      <td>1</td>\n",
       "      <td>0</td>\n",
       "      <td>0</td>\n",
       "      <td>0</td>\n",
       "      <td>0</td>\n",
       "      <td>0</td>\n",
       "      <td>0</td>\n",
       "      <td>0</td>\n",
       "      <td>0</td>\n",
       "      <td>0</td>\n",
       "    </tr>\n",
       "    <tr>\n",
       "      <th>1046</th>\n",
       "      <td>1</td>\n",
       "      <td>0</td>\n",
       "      <td>0</td>\n",
       "      <td>0</td>\n",
       "      <td>0</td>\n",
       "      <td>0</td>\n",
       "      <td>Air India</td>\n",
       "      <td>AI-502</td>\n",
       "      <td>evening</td>\n",
       "      <td>165.0</td>\n",
       "      <td>...</td>\n",
       "      <td>0</td>\n",
       "      <td>0</td>\n",
       "      <td>0</td>\n",
       "      <td>0</td>\n",
       "      <td>0</td>\n",
       "      <td>0</td>\n",
       "      <td>0</td>\n",
       "      <td>0</td>\n",
       "      <td>0</td>\n",
       "      <td>0</td>\n",
       "    </tr>\n",
       "    <tr>\n",
       "      <th>1050</th>\n",
       "      <td>0</td>\n",
       "      <td>1</td>\n",
       "      <td>0</td>\n",
       "      <td>0</td>\n",
       "      <td>0</td>\n",
       "      <td>0</td>\n",
       "      <td>AirAsia</td>\n",
       "      <td>I5-741</td>\n",
       "      <td>afternoon</td>\n",
       "      <td>170.0</td>\n",
       "      <td>...</td>\n",
       "      <td>0</td>\n",
       "      <td>0</td>\n",
       "      <td>0</td>\n",
       "      <td>0</td>\n",
       "      <td>0</td>\n",
       "      <td>0</td>\n",
       "      <td>0</td>\n",
       "      <td>0</td>\n",
       "      <td>0</td>\n",
       "      <td>0</td>\n",
       "    </tr>\n",
       "    <tr>\n",
       "      <th>1485</th>\n",
       "      <td>0</td>\n",
       "      <td>0</td>\n",
       "      <td>0</td>\n",
       "      <td>0</td>\n",
       "      <td>0</td>\n",
       "      <td>1</td>\n",
       "      <td>Vistara</td>\n",
       "      <td>UK-812</td>\n",
       "      <td>afternoon</td>\n",
       "      <td>165.0</td>\n",
       "      <td>...</td>\n",
       "      <td>0</td>\n",
       "      <td>0</td>\n",
       "      <td>0</td>\n",
       "      <td>0</td>\n",
       "      <td>0</td>\n",
       "      <td>0</td>\n",
       "      <td>0</td>\n",
       "      <td>0</td>\n",
       "      <td>0</td>\n",
       "      <td>0</td>\n",
       "    </tr>\n",
       "    <tr>\n",
       "      <th>1489</th>\n",
       "      <td>0</td>\n",
       "      <td>0</td>\n",
       "      <td>0</td>\n",
       "      <td>1</td>\n",
       "      <td>0</td>\n",
       "      <td>0</td>\n",
       "      <td>IndiGo</td>\n",
       "      <td>6E-2487</td>\n",
       "      <td>afternoon</td>\n",
       "      <td>170.0</td>\n",
       "      <td>...</td>\n",
       "      <td>0</td>\n",
       "      <td>0</td>\n",
       "      <td>0</td>\n",
       "      <td>0</td>\n",
       "      <td>0</td>\n",
       "      <td>0</td>\n",
       "      <td>0</td>\n",
       "      <td>0</td>\n",
       "      <td>0</td>\n",
       "      <td>0</td>\n",
       "    </tr>\n",
       "  </tbody>\n",
       "</table>\n",
       "<p>26648 rows × 69 columns</p>\n",
       "</div>"
      ],
      "text/plain": [
       "      Air India  AirAsia  Go Air  IndiGo  Spicejet  Vistara    airline  \\\n",
       "981           0        0       1       0         0        0     Go Air   \n",
       "1180          0        0       1       0         0        0     Go Air   \n",
       "1179          0        0       1       0         0        0     Go Air   \n",
       "3760          0        0       1       0         0        0     Go Air   \n",
       "4548          0        0       1       0         0        0     Go Air   \n",
       "...         ...      ...     ...     ...       ...      ...        ...   \n",
       "2869          0        0       0       0         0        1    Vistara   \n",
       "1046          1        0       0       0         0        0  Air India   \n",
       "1050          0        1       0       0         0        0    AirAsia   \n",
       "1485          0        0       0       0         0        1    Vistara   \n",
       "1489          0        0       0       1         0        0     IndiGo   \n",
       "\n",
       "                            flight_code departure_time  flight_duration  ...  \\\n",
       "981                     G8-101 | G8-185        morning            210.0  ...   \n",
       "1180                    G8-113 | G8-832        morning            860.0  ...   \n",
       "1179                    G8-101 | G8-185        morning            210.0  ...   \n",
       "3760                             G8-141        morning             80.0  ...   \n",
       "4548                             G8-371      afternoon             80.0  ...   \n",
       "...                                 ...            ...              ...  ...   \n",
       "2869  UK-705 | UK-772 | UK-940 | UK-855        morning            240.0  ...   \n",
       "1046                             AI-502        evening            165.0  ...   \n",
       "1050                             I5-741      afternoon            170.0  ...   \n",
       "1485                             UK-812      afternoon            165.0  ...   \n",
       "1489                            6E-2487      afternoon            170.0  ...   \n",
       "\n",
       "     morning-4  morning-5  morning-6 night-0  night-1 night-2  night-3  \\\n",
       "981          0          0          0       0        0       0        0   \n",
       "1180         0          0          0       0        0       0        0   \n",
       "1179         0          0          0       0        0       0        0   \n",
       "3760         0          1          0       0        0       0        0   \n",
       "4548         0          0          0       0        0       0        0   \n",
       "...        ...        ...        ...     ...      ...     ...      ...   \n",
       "2869         1          0          0       0        0       0        0   \n",
       "1046         0          0          0       0        0       0        0   \n",
       "1050         0          0          0       0        0       0        0   \n",
       "1485         0          0          0       0        0       0        0   \n",
       "1489         0          0          0       0        0       0        0   \n",
       "\n",
       "      night-4 night-5  night-6  \n",
       "981         0       0        0  \n",
       "1180        0       0        0  \n",
       "1179        0       0        0  \n",
       "3760        0       0        0  \n",
       "4548        0       0        0  \n",
       "...       ...     ...      ...  \n",
       "2869        0       0        0  \n",
       "1046        0       0        0  \n",
       "1050        0       0        0  \n",
       "1485        0       0        0  \n",
       "1489        0       0        0  \n",
       "\n",
       "[26648 rows x 69 columns]"
      ]
     },
     "execution_count": 4,
     "metadata": {},
     "output_type": "execute_result"
    }
   ],
   "source": [
    "df"
   ]
  },
  {
   "cell_type": "code",
   "execution_count": 12,
   "metadata": {},
   "outputs": [],
   "source": [
    "import pandas as pd\n",
    "from sklearn.ensemble import RandomForestClassifier,RandomForestRegressor \n",
    "from sklearn.feature_selection import SelectFromModel\n",
    "from sklearn.model_selection import train_test_split\n",
    "from preprocess import preprocess\n",
    "# df_model = preprocess()\n",
    "# data.to_csv(r'd.csv')\n",
    "# train, test = train_test_split(data,test_size=0.3)\n",
    "# model = RandomForestClassifier(n_estimators = 100)\n",
    "# sel = SelectFromModel(model)\n",
    "# x_train = train.drop('flight_cost', axis=1)\n",
    "# y_train = train['flight_cost']\n",
    "# sel.fit(x_train,y_train)\n",
    "# x_train.columns[(sel.get_support())]"
   ]
  },
  {
   "cell_type": "code",
   "execution_count": 14,
   "metadata": {},
   "outputs": [],
   "source": [
    "y = df_model['flight_cost']\n",
    "X = df_model.loc[:, df_model.columns != 'flight_cost']\n",
    "X_train, X_test, y_train, y_test = train_test_split(X, y, test_size=0.9, random_state=42)"
   ]
  },
  {
   "cell_type": "code",
   "execution_count": 15,
   "metadata": {},
   "outputs": [
    {
     "data": {
      "text/plain": [
       "Index(['flight_duration', 'number_of_stops', 'days_to_depart',\n",
       "       'Bengaluru-New Delhi', 'Mumbai-Bengaluru', 'New Delhi-Goa'],\n",
       "      dtype='object')"
      ]
     },
     "execution_count": 15,
     "metadata": {},
     "output_type": "execute_result"
    }
   ],
   "source": [
    "# Feature Selection using random forest regressor\n",
    "\n",
    "model = RandomForestRegressor(n_estimators=350)\n",
    "sel = SelectFromModel(model)\n",
    "sel.fit(X_train, y_train)\n",
    "X_train.columns[(sel.get_support())]\n",
    "# model.fit(X_train, y_train)\n",
    "# feat_importances = pd.Series(model.feature_importances_, index=df.columns)"
   ]
  },
  {
   "cell_type": "code",
   "execution_count": 19,
   "metadata": {},
   "outputs": [
    {
     "data": {
      "text/plain": [
       "array([[  0.,   1., 350., ...,   0.,   0.,   0.],\n",
       "       [  0.,   1., 670., ...,   0.,   0.,   0.],\n",
       "       [  0.,   0., 565., ...,   0.,   0.,   0.],\n",
       "       ...,\n",
       "       [  0.,   0., 835., ...,   0.,   0.,   0.],\n",
       "       [  0.,   1., 170., ...,   0.,   0.,   0.],\n",
       "       [  0.,   1., 345., ...,   1.,   0.,   0.]])"
      ]
     },
     "execution_count": 19,
     "metadata": {},
     "output_type": "execute_result"
    }
   ],
   "source": [
    "# Transform X using features selected from SelectKbest f_regression and k=10\n",
    "\n",
    "from sklearn.feature_selection import SelectKBest, f_regression\n",
    "k_best = SelectKBest(f_regression, k=10)\n",
    "X_new = k_best.fit_transform(X_train, y_train)"
   ]
  },
  {
   "cell_type": "code",
   "execution_count": 23,
   "metadata": {},
   "outputs": [],
   "source": [
    "# Train test split data\n",
    "\n",
    "from sklearn.model_selection import train_test_split\n",
    "from sklearn.metrics import mean_squared_error, r2_score, mean_absolute_error\n",
    "df_model = df_model[df_model['flight_cost']<11000]\n",
    "y = df_model['flight_cost']\n",
    "X = df_model.loc[:, df_model.columns != 'flight_cost']\n",
    "X_train, X_test, y_train, y_test = train_test_split(X, y, test_size=0.30, random_state=42)"
   ]
  },
  {
   "cell_type": "code",
   "execution_count": 29,
   "metadata": {},
   "outputs": [
    {
     "name": "stdout",
     "output_type": "stream",
     "text": [
      "Score= 0.4081775823478858\n",
      "MAE 757.3029997136312\n"
     ]
    }
   ],
   "source": [
    "# Trianing for KNeighbourRegressor\n",
    "\n",
    "from sklearn.neighbors import KNeighborsRegressor\n",
    "neigh = KNeighborsRegressor(n_neighbors = 12)\n",
    "neigh.fit(X_train, y_train)\n",
    "pred = neigh.predict(X_test)\n",
    "print(\"Score=\", neigh.score(X_test,y_test))\n",
    "print(\"MAE\",mean_absolute_error(y_test,pred))"
   ]
  },
  {
   "cell_type": "code",
   "execution_count": 30,
   "metadata": {},
   "outputs": [
    {
     "name": "stdout",
     "output_type": "stream",
     "text": [
      "SCORE [0.40997526557196207, 15]\n",
      "MAE [756.1782513877874, 13]\n"
     ]
    }
   ],
   "source": [
    "# Grid search for best value of n_neighbours\n",
    "\n",
    "best_score_k = [-9999999, 10]\n",
    "best_MAE_k = [99999999, 10]\n",
    "for i in range(10, 20):\n",
    "    neigh = KNeighborsRegressor(n_neighbors = i)\n",
    "    neigh.fit(X_train, y_train)\n",
    "    pred = neigh.predict(X_test)\n",
    "    score = neigh.score(X_test,y_test)\n",
    "    MAE = mean_absolute_error(y_test,pred)\n",
    "    if (best_score_k[0] < score):\n",
    "        best_score_k = [score, i]\n",
    "    if (best_MAE_k[0] > MAE):\n",
    "        best_MAE_k = [MAE, i]\n",
    "print(\"SCORE\", best_score_k)\n",
    "print(\"MAE\", best_MAE_k)"
   ]
  },
  {
   "cell_type": "code",
   "execution_count": 34,
   "metadata": {},
   "outputs": [
    {
     "name": "stdout",
     "output_type": "stream",
     "text": [
      "SCORE 0.48859674971372635\n",
      "MAE 692.2498470825896\n"
     ]
    }
   ],
   "source": [
    "# Training for MLPRegressor to predict flight cost\n",
    "\n",
    "from sklearn.neural_network import MLPRegressor\n",
    "regr = MLPRegressor(hidden_layer_sizes=(100, 100, 20), random_state=1, max_iter=500).fit(X_train, y_train)\n",
    "pred = regr.predict(X_test)\n",
    "print(\"SCORE\", regr.score(X_test, y_test))\n",
    "print(\"MAE\", mean_absolute_error(y_test,pred))"
   ]
  }
 ],
 "metadata": {
  "kernelspec": {
   "display_name": "Python 3",
   "language": "python",
   "name": "python3"
  },
  "language_info": {
   "codemirror_mode": {
    "name": "ipython",
    "version": 3
   },
   "file_extension": ".py",
   "mimetype": "text/x-python",
   "name": "python",
   "nbconvert_exporter": "python",
   "pygments_lexer": "ipython3",
   "version": "3.8.3"
  }
 },
 "nbformat": 4,
 "nbformat_minor": 2
}
